{
 "cells": [
  {
   "cell_type": "markdown",
   "metadata": {
    "collapsed": true
   },
   "source": [
    "# Programación Funcional"
   ]
  },
  {
   "cell_type": "markdown",
   "metadata": {},
   "source": [
    "## Funciones Lambda"
   ]
  },
  {
   "cell_type": "code",
   "execution_count": null,
   "metadata": {},
   "outputs": [],
   "source": [
    "cuadrado = lambda x: x*x #Calcula el cuadrado de un numero\n",
    "lista = [1,2,3,5,8,13]\n",
    "for elemento in lista:\n",
    "    print(cuadrado(elemento))"
   ]
  },
  {
   "cell_type": "code",
   "execution_count": null,
   "metadata": {},
   "outputs": [],
   "source": [
    "#Calcular el area de un triangulo\n",
    "area_triangulo = lambda b,h: b*h/2\n",
    "medidas = [(34, 8), (26, 8), (44, 18)]\n",
    "for datos in medidas:\n",
    " base = datos[0]\n",
    " altura = datos[1]\n",
    " print(area_triangulo(base, altura))"
   ]
  },
  {
   "cell_type": "code",
   "execution_count": null,
   "metadata": {},
   "outputs": [],
   "source": [
    "#Calcular el factorial de un numero\n",
    "fact = lambda x: 1 if x == 0 else x * fact(x-1)\n",
    "print(fact(5))"
   ]
  },
  {
   "cell_type": "code",
   "execution_count": null,
   "metadata": {},
   "outputs": [],
   "source": [
    "#Calculadora con funciones lambda\n",
    "calcular={\"+\":lambda x,y:x+y,\"-\":lambda x,y:x-y,\"/\":lambda x,y:x/y,\"*\":lambda x,y:x*y,\"E\":lambda x=0,y=0:\"ERROR\"}\n",
    "operandos=lambda cad:cad.split(\" \") if len(cad.split(\" \"))==3 and cad.split(\" \")[1] in [\"+\",\"-\",\"*\",\"/\"] else (\"0\",\"E\",\"0\")\n",
    "calculadora = lambda op1,op,op2:calcular[op](int(op1),int(op2))\n",
    "print(calculadora(*operandos(\"20 + 10\"))) # retorna 30\n",
    "print(calculadora(*operandos(\"20 * 10\"))) # retorna 200\n",
    "\n",
    "#Usar eval en lugar de esto\n",
    "print(eval(\"12-8\"))"
   ]
  },
  {
   "cell_type": "markdown",
   "metadata": {},
   "source": [
    "## Any, all, map, filter, reduce, zip"
   ]
  },
  {
   "cell_type": "markdown",
   "metadata": {},
   "source": [
    "### Any\n",
    "Any retorna True si algún elemento del iterable es verdadero. Si es vacío retorna False. Es una secuencia de OR consecutiva"
   ]
  },
  {
   "cell_type": "code",
   "execution_count": null,
   "metadata": {},
   "outputs": [],
   "source": [
    "print(any([0,1,2,3]))\n",
    "print(any([0, False, \"\", {}, []]))\n",
    "print(any([]))\n",
    "print(any(\"hola mundo\")) #Siempre retorna true"
   ]
  },
  {
   "cell_type": "markdown",
   "metadata": {},
   "source": [
    "### All\n",
    "All retorna True si todos los elementos son verdadero. Si el iterable es vacio retorna True. Es una secuencia de AND consecutiva"
   ]
  },
  {
   "cell_type": "code",
   "execution_count": null,
   "metadata": {},
   "outputs": [],
   "source": [
    "l = [1, 3, 4, 5]\n",
    "print(all(l)) # True\n",
    "l = [0, False]\n",
    "print(all(l)) # False\n",
    "l = [1, 3, 4, 0]\n",
    "print(all(l)) # False\n",
    "l = [0, False, 5]\n",
    "print(all(l)) # False\n",
    "l = []\n",
    "print(all(l)) #True"
   ]
  },
  {
   "cell_type": "markdown",
   "metadata": {},
   "source": [
    "### Map \n",
    "Aplica una función a una lista de datos y devuelve un iterador con los resultados. También se puede usar una función lambda."
   ]
  },
  {
   "cell_type": "code",
   "execution_count": null,
   "metadata": {},
   "outputs": [],
   "source": [
    "import math\n",
    "def area_circulo(radio):\n",
    "    return math.pi * radio ** 2\n",
    "radios = [1, 2, 3,8,9]\n",
    "# Devuelve iterador que es convertido a lista\n",
    "areas = list(map(area_circulo, radios)) # El segundo parametro es la lista sobre la que se ejecuta\n",
    "print(areas)"
   ]
  },
  {
   "cell_type": "code",
   "execution_count": null,
   "metadata": {},
   "outputs": [],
   "source": [
    "import math\n",
    "radios = list(range(200))\n",
    "for areas in map(lambda r:math.pi*r**2, radios):\n",
    " print(areas)"
   ]
  },
  {
   "cell_type": "code",
   "execution_count": null,
   "metadata": {},
   "outputs": [],
   "source": [
    "#Se puede usar sobre varias entradas con listas diferente\n",
    "import math\n",
    "numeros = list(range(10))\n",
    "potencias = list(range(10))\n",
    "for val in map(lambda x,y:math.pow(x,y),numeros,potencias):\n",
    " print(val)"
   ]
  },
  {
   "cell_type": "markdown",
   "metadata": {},
   "source": [
    "### Reduce\n",
    "Convierte una lista en un único valor aplicando una función reductora"
   ]
  },
  {
   "cell_type": "code",
   "execution_count": null,
   "metadata": {},
   "outputs": [],
   "source": [
    "import math\n",
    "from functools import reduce\n",
    "#en python3 reduce se encuentra en modulo functools\n",
    "items= list(range(100))\n",
    "#Suma todos los elementos de la lista\n",
    "suma = reduce(lambda x, y: x + y, items)\n",
    "print(suma)"
   ]
  },
  {
   "cell_type": "code",
   "execution_count": null,
   "metadata": {},
   "outputs": [],
   "source": [
    "#Reductora que obtiene el elemento mayor de una lista\n",
    "from functools import reduce\n",
    "items= [100,20,104,30,203,200]\n",
    "print(reduce(lambda a, b: a if a>b else b, items))"
   ]
  },
  {
   "cell_type": "markdown",
   "metadata": {},
   "source": [
    "### Filter\n",
    "Aplica una función booleana para poder extraer datos que cumplen la condición"
   ]
  },
  {
   "cell_type": "code",
   "execution_count": null,
   "metadata": {},
   "outputs": [],
   "source": [
    "#Obtiene los números pares en ese rango\n",
    "items=range(10)\n",
    "for x in filter(lambda x: x % 2 == 0, items):\n",
    " print(x)"
   ]
  },
  {
   "cell_type": "code",
   "execution_count": null,
   "metadata": {},
   "outputs": [],
   "source": [
    "#Obtiene los días que tienen más de 6 letras\n",
    "lista = [\"lunes\",\"martes\",\"miércoles\",\"jueves\",\"viernes\",\"sábado\",\"domingo\"]\n",
    "for x in filter(lambda x: len(x)>6,lista):\n",
    " print(x)"
   ]
  },
  {
   "cell_type": "markdown",
   "metadata": {},
   "source": [
    "### Zip\n",
    "Reorganiza las listas. Toma los elementos de todas las listas y genera una tupla iterable"
   ]
  },
  {
   "cell_type": "code",
   "execution_count": null,
   "metadata": {},
   "outputs": [],
   "source": [
    "#Contar la frecuencia de aparicion de las palabras\n",
    "def frec_palabras(cadena):\n",
    "    frecuenciaPalab = []\n",
    "    for p in cadena.split(\" \"):\n",
    "        frecuenciaPalab.append(cadena.count(p))\n",
    "    return dict(zip(cadena.split(\" \"),frecuenciaPalab))\n",
    "frec=frec_palabras(\"python para todos esto es una prueba es una prueba\")\n",
    "print(frec)"
   ]
  },
  {
   "cell_type": "code",
   "execution_count": null,
   "metadata": {},
   "outputs": [],
   "source": [
    "#Obtiene la traspuesta de una matriz\n",
    "def traspuesta(m):\n",
    "    return list(zip(*m)) # el operador * desempaqueta una lista\n",
    "matriz = [[1, 2, 3, 4],\n",
    " [5, 6, 7, 8],\n",
    " [9, 10, 11, 12]]\n",
    "print(traspuesta(matriz))\n"
   ]
  },
  {
   "cell_type": "markdown",
   "metadata": {},
   "source": [
    "### List Comprehensions\n",
    "Permite definir listas expresando de forma funcional los elementos que deben contener"
   ]
  },
  {
   "cell_type": "code",
   "execution_count": null,
   "metadata": {},
   "outputs": [],
   "source": [
    "# Potencias de 2\n",
    "d=[2**x for x in range(10)]\n",
    "print(d)"
   ]
  },
  {
   "cell_type": "code",
   "execution_count": null,
   "metadata": {},
   "outputs": [],
   "source": [
    "# Obtener una lista donde la primera letra sea la p y la ultima la o\n",
    "lista=[\"paco\",\"pedro\",\"juan\", \"antonio\",\"manolo\"]\n",
    "lista_po=[x for x in lista if x[-1]==\"o\" and x[0]==\"p\"]\n",
    "print(lista_po)"
   ]
  },
  {
   "cell_type": "code",
   "execution_count": null,
   "metadata": {},
   "outputs": [],
   "source": [
    "#De nuevo, la traspuesta de una matriz dada\n",
    "matrix = [[1, 2, 4],\n",
    " [0, 3, 1],\n",
    " [5, 2, 7]]\n",
    "matrix_traspuesta = [[row[i] for row in matrix] for i in range(3)]\n",
    "lista_mat = [x for a in matrix for x in a]\n",
    "diagonal = [columna for f, fila in enumerate(matrix) for c, columna in enumerate(fila) if f == c]\n",
    "print(\"matriz origen\")\n",
    "print(matrix)\n",
    "print(\"matriz traspuesta\")\n",
    "print(matrix_traspuesta)\n",
    "print(\"matriz en una lista\")\n",
    "print(lista_mat)\n",
    "print(\"diagonal principal\")\n",
    "print(diagonal)"
   ]
  },
  {
   "cell_type": "markdown",
   "metadata": {},
   "source": [
    "### Dict comprehensions \n",
    "Aparte de listas, también se puede hacer con diccionarios, en lugar de \\[\\], usamos {}"
   ]
  },
  {
   "cell_type": "code",
   "execution_count": null,
   "metadata": {},
   "outputs": [],
   "source": [
    "personas = [\"paco\", \"pepe\",\"juan\",\"manolo\"]\n",
    "edades = [10,30,25,56]\n",
    "personas_ed ={k:v for k,v in zip(personas,edades)}\n",
    "print(personas_ed)"
   ]
  },
  {
   "cell_type": "code",
   "execution_count": null,
   "metadata": {},
   "outputs": [],
   "source": [
    "# Tablas de multiplicar con Dict comprehensions\n",
    "diccionario={(k, v): k*v for k in range(10) for v in range(10)}\n",
    "print(diccionario)"
   ]
  },
  {
   "cell_type": "markdown",
   "metadata": {},
   "source": [
    "# Iteradores\n",
    "Permiten recorrer colecciones de datos. Todas las clases se pueden iterar añadiendo los métodos mágicos \\__iter\\__ y \\__next\\__"
   ]
  },
  {
   "cell_type": "code",
   "execution_count": null,
   "metadata": {},
   "outputs": [],
   "source": [
    "#Clase Potencia de 2\n",
    "class Potencia2:\n",
    "    \"\"\"esta clase itera potencias de dos hasta un max\"\"\"\n",
    "    def __init__(self, max = 0):\n",
    "        \"\"\"constructor de la clase\"\"\"\n",
    "        self.max = max\n",
    "    def __iter__(self):\n",
    "        \"\"\"inicializa el iterador\"\"\"\n",
    "        self.n = 0\n",
    "        return self\n",
    "    def __next__(self):\n",
    "        \"\"\"retorna valores iterados hasta max \"\"\"\n",
    "        if self.n <= self.max:\n",
    "            result = 2 ** self.n\n",
    "            self.n += 1\n",
    "            return result\n",
    "        else:\n",
    "            raise StopIteration # esta excepción para la iteración"
   ]
  },
  {
   "cell_type": "code",
   "execution_count": null,
   "metadata": {},
   "outputs": [],
   "source": [
    "pot=iter(Potencia2(100)) # Un iterador\n",
    "for x in range(10):\n",
    "    print(\"potencia {}\".format(next(pot)))\n",
    "\n",
    "for i in Potencia2(20):\n",
    "    print(i)"
   ]
  },
  {
   "cell_type": "markdown",
   "metadata": {},
   "source": [
    "# Generadores\n",
    "Otra forma de hacer iteradores. Utiliza la palabra _yield_, que devuelve una nueva iteración por cada paso por _yield_. En términos de memoria es más eficiente, ya que no despliega la lista entera."
   ]
  },
  {
   "cell_type": "code",
   "execution_count": null,
   "metadata": {},
   "outputs": [],
   "source": [
    "def fibonacci():\n",
    "    \"\"\" generador fibbonacci infinito\"\"\"\n",
    "    x, y = 0, 1\n",
    "    while True:\n",
    "        yield x\n",
    "    x, y = y, x + y\n",
    "    \n",
    "def fibonacci_n(max):\n",
    "    \"\"\" generador fibbonacci con limite\"\"\"\n",
    "    x, y = 0, 1\n",
    "    _max=0\n",
    "    while _max<max:\n",
    "        yield x\n",
    "        _max+=1\n",
    "        x, y = y, x + y\n",
    "\n",
    "for i in fibonacci_n(100):\n",
    "    print(i)"
   ]
  },
  {
   "cell_type": "code",
   "execution_count": null,
   "metadata": {},
   "outputs": [],
   "source": [
    "#Un generador utilizando programación funcional. Devuelve los pares.\n",
    "# En lugar de usar [], usamos ()\n",
    "pares = (x for x in range(100) if x%2==0)\n",
    "print(type(pares))\n",
    "print(next(pares))\n",
    "print(next(pares))"
   ]
  },
  {
   "cell_type": "markdown",
   "metadata": {},
   "source": [
    "# Closures y decoradores"
   ]
  },
  {
   "cell_type": "markdown",
   "metadata": {},
   "source": [
    "## Closures\n",
    "Un closure (clausura) es una función que retorna su función interna anidada. "
   ]
  },
  {
   "cell_type": "code",
   "execution_count": null,
   "metadata": {},
   "outputs": [],
   "source": [
    "def contador(x):\n",
    "    contador=x\n",
    "    def interna():\n",
    "        nonlocal contador\n",
    "        contador+=1\n",
    "        print(\"X: {}\".format(x))\n",
    "        print(\"contador: {}\".format(contador))\n",
    "    return interna\n",
    "c1=contador(10)\n",
    "c2=contador(20)\n",
    "c1()\n",
    "c2()\n",
    "c2()\n",
    "c1()"
   ]
  },
  {
   "cell_type": "code",
   "execution_count": null,
   "metadata": {},
   "outputs": [],
   "source": [
    "# Un caso práctico es el cálculo del iva\n",
    "def calcular_iva(base_iva):\n",
    "    def estimar_neto(importe_bruto):\n",
    "        return importe_bruto + (importe_bruto * base_iva / 100)\n",
    "    return estimar_neto\n",
    "\n",
    "# Productos gravados con el 21%\n",
    "get_neto_base_21 = calcular_iva(21)\n",
    "ordenador = get_neto_base_21(500)\n",
    "zapatos = get_neto_base_21(87)\n",
    "cine = get_neto_base_21(6)\n",
    "# Productos gravados con el 10.5%\n",
    "get_neto_base_105 = calcular_iva(10.5)\n",
    "carne = get_neto_base_105(10)\n",
    "huevos = get_neto_base_105(2)\n",
    "print(huevos)\n",
    "print(ordenador)"
   ]
  },
  {
   "cell_type": "markdown",
   "metadata": {},
   "source": [
    "## Decoradores\n",
    "Un decorador es un closure que toma como parámetro una función y retorna una función de reemplazo\n"
   ]
  },
  {
   "cell_type": "code",
   "execution_count": null,
   "metadata": {},
   "outputs": [],
   "source": [
    "def decorador(fun):\n",
    "    def interna():\n",
    "        print(\"esto es antes de la funcion\",fun)\n",
    "        return fun\n",
    "    return interna\n",
    "def mi_funcion():\n",
    "    return 1\n",
    "decora =decorador(mi_funcion())\n",
    "decora()"
   ]
  },
  {
   "cell_type": "markdown",
   "metadata": {},
   "source": [
    "Python tiene _azucar sintáctico_, en este caso **a través de _@_**, facilitando la aplicación de decoradores"
   ]
  },
  {
   "cell_type": "code",
   "execution_count": null,
   "metadata": {},
   "outputs": [],
   "source": [
    "def decorador(fun):\n",
    "    def interna():\n",
    "        print(\"antes de la funcion\")\n",
    "        return fun\n",
    "    return interna\n",
    "\n",
    "@decorador\n",
    "def mi_funcion():\n",
    "    return 1\n",
    "print(mi_funcion())"
   ]
  },
  {
   "cell_type": "code",
   "execution_count": null,
   "metadata": {},
   "outputs": [],
   "source": [
    "def decorador(funcion):\n",
    "    def funcion_envoltura():\n",
    "        print(\"antes de la funcion\")\n",
    "        funcion()\n",
    "        print(\"despues de la funcion\")\n",
    "    return funcion_envoltura\n",
    "\n",
    "@decorador\n",
    "def mi_funcion():\n",
    "    return 1\n",
    "print(mi_funcion())"
   ]
  },
  {
   "cell_type": "code",
   "execution_count": null,
   "metadata": {},
   "outputs": [],
   "source": [
    "# Un caso práctico es hacer logging de los métodos\n",
    "\n",
    "def log(func):\n",
    "    def interna(*args, **kwargs):\n",
    "        print(\"{} :LLamada con argumentos : {},{}\".format(func.__name__,args, kwargs))\n",
    "        return func(*args, **kwargs)\n",
    "    return interna\n",
    "\n",
    "@log\n",
    "def fun_producto(x,y=10,z=1):\n",
    "    print (\"Producto:{}\".format(x*y*z))\n",
    "    return x*y*z\n",
    "@log\n",
    "def procesar_l(f,lista):\n",
    "    salida=[]\n",
    "    for i in lista:\n",
    "        salida.append(f(i)) #esta funcion es un map\n",
    "    return salida\n",
    "l=procesar_l(lambda x: bin(x),[1,2,3,4,5,6])\n",
    "print(l)"
   ]
  },
  {
   "cell_type": "markdown",
   "metadata": {},
   "source": [
    "También existen **decoradores integrados**\n",
    "* Properties\n",
    "* classmethods\n",
    "* staticmethods"
   ]
  },
  {
   "cell_type": "markdown",
   "metadata": {},
   "source": [
    "## Clases decoradoras\n",
    "Permiten organizar mejor el código. Es necesario cargar los métodos \\__call\\__ y \\__init\\__"
   ]
  },
  {
   "cell_type": "code",
   "execution_count": null,
   "metadata": {},
   "outputs": [],
   "source": [
    "#Ejemplo anterior con clase decoradora\n",
    "class log(object):\n",
    "    def __init__(self,func):\n",
    "        self.func=func\n",
    "    def __call__(self,*args,**kwargs):\n",
    "        print(\"{} :LLamada con argumentos : {},{}\".format(self.func.__name__,args, kwargs))\n",
    "        return self.func(*args, **kwargs)\n",
    "@log\n",
    "def fun_producto(x,y=10,z=1):\n",
    "    print (\"Producto:{}\".format(x*y*z))\n",
    "    return x*y*z\n",
    "@log\n",
    "def procesar_l(f,lista):\n",
    "    salida=[]\n",
    "    for i in lista:\n",
    "        salida.append(f(i))\n",
    "    return salida\n",
    "\n",
    "fun_producto(1,2,3)\n",
    "l=procesar_l(lambda x: bin(x),[1,2,3,4,5,6])\n",
    "print(l)"
   ]
  },
  {
   "cell_type": "code",
   "execution_count": null,
   "metadata": {},
   "outputs": [],
   "source": [
    "class Decorator(object):\n",
    "    def __init__(self, arg):\n",
    "        \"\"\" inyecta arg como atributo y el metodo: mimetodo\"\"\"\n",
    "        self.arg = arg\n",
    "        print(self.arg)\n",
    "        \n",
    "    def mimetodo(self,a):\n",
    "        print(\"este es mi metodo\")\n",
    "        return a*1.21\n",
    "    \n",
    "    def __call__(self, cls):\n",
    "        print(\"injecting attribute and method\")\n",
    "        setattr(cls,self.mimetodo.__name__,self.mimetodo)\n",
    "        setattr(cls,self.arg,21)\n",
    "        return cls\n",
    "    \n",
    "@Decorator(\"iva\")\n",
    "class TestClass(object):\n",
    "    def new_method(self, value):\n",
    "        return value * 3\n",
    "\n",
    "a=TestClass()\n",
    "print(a.new_method(8))\n",
    "print(a.iva)\n",
    "print(a.mimetodo(21))"
   ]
  },
  {
   "cell_type": "markdown",
   "metadata": {},
   "source": [
    "## Property\n",
    "Es una forma de implementar _getter_ y _setter_ para atributos de una clase. Permite encapsular la asignación del atributo y sobrecargarlo"
   ]
  },
  {
   "cell_type": "code",
   "execution_count": null,
   "metadata": {},
   "outputs": [],
   "source": [
    "class persona(object):\n",
    "    \"\"\"Vamos a hacer una clase persona \"\"\"\n",
    "    def __init__(self,nombre,edad,peso):\n",
    "        \"\"\"este es el construtor de persona\"\"\"\n",
    "        self._nombre = nombre\n",
    "        self._edad = edad\n",
    "        self._peso = peso\n",
    "        self.pet_peso=0\n",
    "        \n",
    "    @property\n",
    "    def nombre(self):\n",
    "        \"\"\"este es el getter de nombre\"\"\"\n",
    "        return self._nombre\n",
    "    \n",
    "    @nombre.setter\n",
    "    def nombre(self,nom):\n",
    "        \"\"\"este es el setter de nombre\"\"\"\n",
    "        if isinstance(nom,str):\n",
    "            self._nombre=nom\n",
    "            \n",
    "    @property\n",
    "    def peso(self):\n",
    "        \"\"\"getter de peso\"\"\"\n",
    "        self.pet_peso+=1\n",
    "        return self._peso\n",
    "    @peso.setter\n",
    "    def peso(self,pes):\n",
    "        \"\"\"setter de peso\"\"\"\n",
    "        self._peso=pes\n",
    "        \n",
    "per1 = persona(\"paco\",25,50)\n",
    "per1.nombre=\"paco andres hernandez\"\n",
    "per1.peso = 45\n",
    "print(per1.nombre,per1.peso,per1.pet_peso)"
   ]
  },
  {
   "cell_type": "markdown",
   "metadata": {},
   "source": [
    "## Statichmethod\n",
    "Se asocia con la clase y **no con las instancias**. No tiene self. No modifica la clase ni las instancias.\n",
    "Solamente **sirve para definir utilidades**"
   ]
  },
  {
   "cell_type": "code",
   "execution_count": null,
   "metadata": {},
   "outputs": [],
   "source": [
    "class Date(object):\n",
    "    def __init__(self, day=0, month=0, year=0):\n",
    "        self.day = day\n",
    "        self.month = month\n",
    "        self.year = year\n",
    "        \n",
    "    def __str__(self):\n",
    "        return str(self.day)+\"-\"+str(self.month)+\"-\"+str(self.year)\n",
    "    \n",
    "    @classmethod\n",
    "    def from_string(cls, date_as_string):\n",
    "        day, month, year = map(int, date_as_string.split('-'))\n",
    "        date1 = cls(day, month, year)\n",
    "        return date1\n",
    "    \n",
    "    @staticmethod\n",
    "    def is_date_valid(date_as_string):\n",
    "        day, month, year = map(int, date_as_string.split('-'))\n",
    "        return day <= 31 and month <= 12 and year <= 3999\n",
    "    \n",
    "date1 = Date.from_string('20-02-2018')\n",
    "date2 = Date(21,2,2018)\n",
    "is_date = Date.is_date_valid('20-02-2018')\n",
    "print(date1)\n",
    "print(date2)\n",
    "print(is_date)"
   ]
  },
  {
   "cell_type": "markdown",
   "metadata": {},
   "source": [
    "## Classmethod\n",
    "Puede modificar el estado de una clase, **accediendo a sus atributos**, aun cuando el método es invocado desde un objeto. En lugar de utilizar _self_ como parámetro, **se utiliza _cls_**.\n",
    "\n",
    "Utilizado para crear _factory methods_\n",
    "\n",
    "En el ejemplo anterior también hay un caso de uso de este decorador _built-in_"
   ]
  },
  {
   "cell_type": "code",
   "execution_count": null,
   "metadata": {},
   "outputs": [],
   "source": [
    "class PoblacionCensada():\n",
    "    '''Clase que registra la cantidad de habitantes de todas sus instancias.'''\n",
    "    poblacion = 0 # es un atributo de clase y de instancia\n",
    "    \n",
    "    '''Crea censos de población. '''\n",
    "    @classmethod\n",
    "    def opera_poblacion(cls, operador, cantidad):\n",
    "        '''registra el número total de población de todas las instancias de la clase.'''\n",
    "        cls.poblacion = eval(str(cls.poblacion) + operador + str(cantidad))\n",
    "        \n",
    "    @classmethod\n",
    "    def despliega_total(cls):\n",
    "        '''retorna el atributo de clase cls. población.'''\n",
    "        return cls.poblacion\n",
    "    \n",
    "    def __init__(self, nombre, numero=0):\n",
    "        print(\"Se ha creado la población {} con {} habitantes.\".format(nombre, numero))\n",
    "        self.nombre = nombre\n",
    "        self.poblacion = numero\n",
    "        self.opera_poblacion('+', self.poblacion)\n",
    "        \n",
    "    def __del__(self):\n",
    "        self.opera_poblacion('-', self.poblacion)\n",
    "        \n",
    "extremadura = [PoblacionCensada(\"plasencia\", 20000),\n",
    "PoblacionCensada(\"badajoz\", 120000),\n",
    "PoblacionCensada(\"caceres\", 80000),\n",
    "PoblacionCensada('merida', 50000)]\n",
    "print(extremadura[0].despliega_total())\n",
    "del extremadura[3]\n",
    "print(PoblacionCensada.despliega_total())"
   ]
  },
  {
   "cell_type": "markdown",
   "metadata": {},
   "source": [
    "# Metaprogramación\n",
    "Consiste en la modificación del comportamiento de clases, o la creación de las mismas antes de instanciarlas. \n",
    "\n",
    "Una clase es un objeto derivado de una metaclase _type_"
   ]
  },
  {
   "cell_type": "code",
   "execution_count": null,
   "metadata": {},
   "outputs": [],
   "source": [
    "class BASE:pass\n",
    "def __init__(self,a,b):\n",
    "    self.a=a\n",
    "    self.b=b\n",
    "\n",
    "#Construccion de la clase\n",
    "BASE.atributo=\"esto es una prueba\"\n",
    "BASE.funcion= lambda self:print(\"hola mundo\")\n",
    "setattr(BASE,\"__init__\",__init__)\n",
    "setattr(BASE,\"__doc__\",\"documentacion de la clase\")\n",
    "\n",
    "obj=BASE(10,\"ufffs\")\n",
    "print(obj.atributo)\n",
    "obj.funcion()\n",
    "print(obj.a,obj.b)\n",
    "print(BASE.__dict__)"
   ]
  },
  {
   "cell_type": "markdown",
   "metadata": {},
   "source": [
    "También podemos crear clases utilizando la siguiente forma:\n",
    " ``type(<name>, (<herencia>,) ,dict(<atributo>:<value>, <method>:<value>)``"
   ]
  },
  {
   "cell_type": "code",
   "execution_count": null,
   "metadata": {},
   "outputs": [],
   "source": [
    "class BASE(object):\n",
    "    def base_metodo(self):\n",
    "        print(\"base_metodo\")\n",
    "    \n",
    "def nuevo_metodo(self):\n",
    "    print(\"soy nuevo metodo\")\n",
    "    \n",
    "A=type(\"A\",(BASE,), dict(y=\"paco\",inyectado=nuevo_metodo))\n",
    "obj=A()\n",
    "\n",
    "print(obj.y)\n",
    "obj.base_metodo()\n",
    "obj.inyectado()\n",
    "print(A.__dict__)"
   ]
  },
  {
   "cell_type": "markdown",
   "metadata": {},
   "source": [
    "Otra forma de modificar comportamientos es **sobreescribiendo el método \\__new\\__**, que se ejecuta antes de instanciar el objeto con \\__init\\__.\n",
    "\n",
    "Con _metaclass_ se puede derivar la clase _tipo_ para la construcción de clases"
   ]
  },
  {
   "cell_type": "code",
   "execution_count": null,
   "metadata": {},
   "outputs": [],
   "source": [
    "class control(object):\n",
    "    def control_mas(self,a,b):\n",
    "        return a+b\n",
    "    def control_menos(self,a,b):\n",
    "        return a-b\n",
    "    \n",
    "class sensores(type):\n",
    "    def __new__(cls, clsname, bases, clsdict):\n",
    "        bases=bases+(control,) # TODO SENSOR DEBE HEREDAR DE CONTROL\n",
    "        return super().__new__(cls, clsname, bases, clsdict)\n",
    "\n",
    "class Base(metaclass=sensores):\n",
    "    pass\n",
    "\n",
    "class A(Base):\n",
    "    pass\n",
    "\n",
    "class B(Base):\n",
    "    pass\n",
    "\n",
    "print(B.__mro__) #method resolution order. orden de herencia\n",
    "obj=A()\n",
    "print(obj.control_mas(1,3))\n",
    "print(obj.control_menos(10,8))"
   ]
  },
  {
   "cell_type": "code",
   "execution_count": null,
   "metadata": {},
   "outputs": [],
   "source": []
  }
 ],
 "metadata": {
  "kernelspec": {
   "display_name": "Python 3",
   "language": "python",
   "name": "python3"
  },
  "language_info": {
   "codemirror_mode": {
    "name": "ipython",
    "version": 3
   },
   "file_extension": ".py",
   "mimetype": "text/x-python",
   "name": "python",
   "nbconvert_exporter": "python",
   "pygments_lexer": "ipython3",
   "version": "3.5.2"
  }
 },
 "nbformat": 4,
 "nbformat_minor": 1
}
